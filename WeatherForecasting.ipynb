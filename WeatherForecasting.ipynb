{
 "cells": [
  {
   "cell_type": "code",
   "execution_count": 3,
   "metadata": {},
   "outputs": [],
   "source": [
    "import h2o\n",
    "import pandas as pd\n",
    "from h2o.automl import H2OAutoML"
   ]
  },
  {
   "cell_type": "code",
   "execution_count": 4,
   "metadata": {},
   "outputs": [
    {
     "name": "stdout",
     "output_type": "stream",
     "text": [
      "Checking whether there is an H2O instance running at http://localhost:54321 . connected.\n"
     ]
    },
    {
     "data": {
      "text/html": [
       "\n",
       "<style>\n",
       "\n",
       "#h2o-table-1.h2o-container {\n",
       "  overflow-x: auto;\n",
       "}\n",
       "#h2o-table-1 .h2o-table {\n",
       "  /* width: 100%; */\n",
       "  margin-top: 1em;\n",
       "  margin-bottom: 1em;\n",
       "}\n",
       "#h2o-table-1 .h2o-table caption {\n",
       "  white-space: nowrap;\n",
       "  caption-side: top;\n",
       "  text-align: left;\n",
       "  /* margin-left: 1em; */\n",
       "  margin: 0;\n",
       "  font-size: larger;\n",
       "}\n",
       "#h2o-table-1 .h2o-table thead {\n",
       "  white-space: nowrap; \n",
       "  position: sticky;\n",
       "  top: 0;\n",
       "  box-shadow: 0 -1px inset;\n",
       "}\n",
       "#h2o-table-1 .h2o-table tbody {\n",
       "  overflow: auto;\n",
       "}\n",
       "#h2o-table-1 .h2o-table th,\n",
       "#h2o-table-1 .h2o-table td {\n",
       "  text-align: right;\n",
       "  /* border: 1px solid; */\n",
       "}\n",
       "#h2o-table-1 .h2o-table tr:nth-child(even) {\n",
       "  /* background: #F5F5F5 */\n",
       "}\n",
       "\n",
       "</style>      \n",
       "<div id=\"h2o-table-1\" class=\"h2o-container\">\n",
       "  <table class=\"h2o-table\">\n",
       "    <caption></caption>\n",
       "    <thead></thead>\n",
       "    <tbody><tr><td>H2O_cluster_uptime:</td>\n",
       "<td>13 mins 00 secs</td></tr>\n",
       "<tr><td>H2O_cluster_timezone:</td>\n",
       "<td>Asia/Seoul</td></tr>\n",
       "<tr><td>H2O_data_parsing_timezone:</td>\n",
       "<td>UTC</td></tr>\n",
       "<tr><td>H2O_cluster_version:</td>\n",
       "<td>3.38.0.2</td></tr>\n",
       "<tr><td>H2O_cluster_version_age:</td>\n",
       "<td>28 days, 21 hours and 58 minutes </td></tr>\n",
       "<tr><td>H2O_cluster_name:</td>\n",
       "<td>H2O_from_python_mujin_3zxcwy</td></tr>\n",
       "<tr><td>H2O_cluster_total_nodes:</td>\n",
       "<td>1</td></tr>\n",
       "<tr><td>H2O_cluster_free_memory:</td>\n",
       "<td>8 Gb</td></tr>\n",
       "<tr><td>H2O_cluster_total_cores:</td>\n",
       "<td>8</td></tr>\n",
       "<tr><td>H2O_cluster_allowed_cores:</td>\n",
       "<td>8</td></tr>\n",
       "<tr><td>H2O_cluster_status:</td>\n",
       "<td>locked, healthy</td></tr>\n",
       "<tr><td>H2O_connection_url:</td>\n",
       "<td>http://localhost:54321</td></tr>\n",
       "<tr><td>H2O_connection_proxy:</td>\n",
       "<td>{\"http\": null, \"https\": null}</td></tr>\n",
       "<tr><td>H2O_internal_security:</td>\n",
       "<td>False</td></tr>\n",
       "<tr><td>Python_version:</td>\n",
       "<td>3.9.15 final</td></tr></tbody>\n",
       "  </table>\n",
       "</div>\n"
      ],
      "text/plain": [
       "--------------------------  --------------------------------\n",
       "H2O_cluster_uptime:         13 mins 00 secs\n",
       "H2O_cluster_timezone:       Asia/Seoul\n",
       "H2O_data_parsing_timezone:  UTC\n",
       "H2O_cluster_version:        3.38.0.2\n",
       "H2O_cluster_version_age:    28 days, 21 hours and 58 minutes\n",
       "H2O_cluster_name:           H2O_from_python_mujin_3zxcwy\n",
       "H2O_cluster_total_nodes:    1\n",
       "H2O_cluster_free_memory:    8 Gb\n",
       "H2O_cluster_total_cores:    8\n",
       "H2O_cluster_allowed_cores:  8\n",
       "H2O_cluster_status:         locked, healthy\n",
       "H2O_connection_url:         http://localhost:54321\n",
       "H2O_connection_proxy:       {\"http\": null, \"https\": null}\n",
       "H2O_internal_security:      False\n",
       "Python_version:             3.9.15 final\n",
       "--------------------------  --------------------------------"
      ]
     },
     "metadata": {},
     "output_type": "display_data"
    }
   ],
   "source": [
    "h2o.init(nthreads=-1, max_mem_size=9)"
   ]
  },
  {
   "cell_type": "code",
   "execution_count": 28,
   "metadata": {},
   "outputs": [
    {
     "name": "stdout",
     "output_type": "stream",
     "text": [
      "Parse progress: |████████████████████████████████████████████████████████████████| (done) 100%\n"
     ]
    }
   ],
   "source": [
    "# df = pd.read_csv(\"time_data/ASOS_TIM.csv\", encoding='cp949')\n",
    "# print(type(df))\n",
    "\n",
    "data = \"https://raw.githubusercontent.com/Nyscrodia/WeatherForecasting/master/time_data/ASOS_TIM.csv\"\n",
    "df = h2o.import_file(data)"
   ]
  },
  {
   "cell_type": "code",
   "execution_count": 29,
   "metadata": {},
   "outputs": [
    {
     "data": {
      "text/html": [
       "<table class='dataframe'>\n",
       "<thead>\n",
       "<tr><th style=\"text-align: right;\">  spot</th><th>spotName  </th><th>date           </th><th style=\"text-align: right;\">  Ta(筌욏뇭)</th><th style=\"text-align: right;\">  Rn(mm)</th><th style=\"text-align: right;\">  Ws(m/s)</th><th style=\"text-align: right;\">  Wd(16D)</th><th style=\"text-align: right;\">  Hm(%)</th><th style=\"text-align: right;\">  Pa(hPa)</th><th style=\"text-align: right;\">  Ps(hPa)</th><th style=\"text-align: right;\">  Ss(hr)</th><th style=\"text-align: right;\">  Gsr(MJ/m2)</th><th style=\"text-align: right;\">  Snow(cm)</th><th style=\"text-align: right;\">  DpthFhsc(cm)</th><th style=\"text-align: right;\">  Tca(10)</th><th>CloudForm  </th><th style=\"text-align: right;\">  Ts(筌욏뇭)</th></tr>\n",
       "</thead>\n",
       "<tbody>\n",
       "<tr><td style=\"text-align: right;\">   nan</td><td>spotName  </td><td>date           </td><td style=\"text-align: right;\">       nan  </td><td style=\"text-align: right;\">     nan</td><td style=\"text-align: right;\">    nan  </td><td style=\"text-align: right;\">      nan</td><td style=\"text-align: right;\">    nan</td><td style=\"text-align: right;\">    nan  </td><td style=\"text-align: right;\">    nan  </td><td style=\"text-align: right;\">     nan</td><td style=\"text-align: right;\">         nan</td><td style=\"text-align: right;\">       nan</td><td style=\"text-align: right;\">           nan</td><td style=\"text-align: right;\">      nan</td><td>CloudForm  </td><td style=\"text-align: right;\">       nan  </td></tr>\n",
       "<tr><td style=\"text-align: right;\">   108</td><td>Seoul     </td><td>2021-01-01 0:00</td><td style=\"text-align: right;\">        -8.3</td><td style=\"text-align: right;\">     nan</td><td style=\"text-align: right;\">      1.8</td><td style=\"text-align: right;\">      250</td><td style=\"text-align: right;\">     66</td><td style=\"text-align: right;\">   1016.4</td><td style=\"text-align: right;\">   1027.7</td><td style=\"text-align: right;\">     nan</td><td style=\"text-align: right;\">         nan</td><td style=\"text-align: right;\">       nan</td><td style=\"text-align: right;\">           nan</td><td style=\"text-align: right;\">        0</td><td>           </td><td style=\"text-align: right;\">        -6.8</td></tr>\n",
       "<tr><td style=\"text-align: right;\">   108</td><td>Seoul     </td><td>2021-01-01 1:00</td><td style=\"text-align: right;\">        -8.7</td><td style=\"text-align: right;\">     nan</td><td style=\"text-align: right;\">      2.4</td><td style=\"text-align: right;\">      270</td><td style=\"text-align: right;\">     68</td><td style=\"text-align: right;\">   1016.4</td><td style=\"text-align: right;\">   1027.7</td><td style=\"text-align: right;\">     nan</td><td style=\"text-align: right;\">         nan</td><td style=\"text-align: right;\">       nan</td><td style=\"text-align: right;\">           nan</td><td style=\"text-align: right;\">        0</td><td>           </td><td style=\"text-align: right;\">        -6.9</td></tr>\n",
       "<tr><td style=\"text-align: right;\">   108</td><td>Seoul     </td><td>2021-01-01 2:00</td><td style=\"text-align: right;\">        -9.1</td><td style=\"text-align: right;\">     nan</td><td style=\"text-align: right;\">      1.6</td><td style=\"text-align: right;\">      270</td><td style=\"text-align: right;\">     69</td><td style=\"text-align: right;\">   1016.2</td><td style=\"text-align: right;\">   1027.5</td><td style=\"text-align: right;\">     nan</td><td style=\"text-align: right;\">         nan</td><td style=\"text-align: right;\">       nan</td><td style=\"text-align: right;\">           nan</td><td style=\"text-align: right;\">        0</td><td>           </td><td style=\"text-align: right;\">        -7.1</td></tr>\n",
       "<tr><td style=\"text-align: right;\">   108</td><td>Seoul     </td><td>2021-01-01 3:00</td><td style=\"text-align: right;\">        -9.3</td><td style=\"text-align: right;\">     nan</td><td style=\"text-align: right;\">      1.1</td><td style=\"text-align: right;\">      250</td><td style=\"text-align: right;\">     70</td><td style=\"text-align: right;\">   1016.8</td><td style=\"text-align: right;\">   1028.1</td><td style=\"text-align: right;\">     nan</td><td style=\"text-align: right;\">         nan</td><td style=\"text-align: right;\">       nan</td><td style=\"text-align: right;\">           nan</td><td style=\"text-align: right;\">        0</td><td>           </td><td style=\"text-align: right;\">        -7.3</td></tr>\n",
       "<tr><td style=\"text-align: right;\">   108</td><td>Seoul     </td><td>2021-01-01 4:00</td><td style=\"text-align: right;\">        -9.3</td><td style=\"text-align: right;\">     nan</td><td style=\"text-align: right;\">      0.3</td><td style=\"text-align: right;\">        0</td><td style=\"text-align: right;\">     71</td><td style=\"text-align: right;\">   1016.2</td><td style=\"text-align: right;\">   1027.5</td><td style=\"text-align: right;\">     nan</td><td style=\"text-align: right;\">         nan</td><td style=\"text-align: right;\">       nan</td><td style=\"text-align: right;\">           nan</td><td style=\"text-align: right;\">        0</td><td>           </td><td style=\"text-align: right;\">        -7.5</td></tr>\n",
       "<tr><td style=\"text-align: right;\">   108</td><td>Seoul     </td><td>2021-01-01 5:00</td><td style=\"text-align: right;\">        -9.7</td><td style=\"text-align: right;\">     nan</td><td style=\"text-align: right;\">      1.9</td><td style=\"text-align: right;\">       20</td><td style=\"text-align: right;\">     72</td><td style=\"text-align: right;\">   1015.6</td><td style=\"text-align: right;\">   1026.9</td><td style=\"text-align: right;\">     nan</td><td style=\"text-align: right;\">         nan</td><td style=\"text-align: right;\">       nan</td><td style=\"text-align: right;\">           nan</td><td style=\"text-align: right;\">        0</td><td>           </td><td style=\"text-align: right;\">        -7.6</td></tr>\n",
       "<tr><td style=\"text-align: right;\">   108</td><td>Seoul     </td><td>2021-01-01 6:00</td><td style=\"text-align: right;\">        -9.7</td><td style=\"text-align: right;\">     nan</td><td style=\"text-align: right;\">      2  </td><td style=\"text-align: right;\">       50</td><td style=\"text-align: right;\">     75</td><td style=\"text-align: right;\">   1015.4</td><td style=\"text-align: right;\">   1026.7</td><td style=\"text-align: right;\">     nan</td><td style=\"text-align: right;\">         nan</td><td style=\"text-align: right;\">       nan</td><td style=\"text-align: right;\">           nan</td><td style=\"text-align: right;\">        7</td><td>Sc         </td><td style=\"text-align: right;\">        -7.4</td></tr>\n",
       "<tr><td style=\"text-align: right;\">   108</td><td>Seoul     </td><td>2021-01-01 7:00</td><td style=\"text-align: right;\">        -9.3</td><td style=\"text-align: right;\">     nan</td><td style=\"text-align: right;\">      1.6</td><td style=\"text-align: right;\">       50</td><td style=\"text-align: right;\">     71</td><td style=\"text-align: right;\">   1015.6</td><td style=\"text-align: right;\">   1026.9</td><td style=\"text-align: right;\">     nan</td><td style=\"text-align: right;\">         nan</td><td style=\"text-align: right;\">       nan</td><td style=\"text-align: right;\">           nan</td><td style=\"text-align: right;\">        6</td><td>Sc         </td><td style=\"text-align: right;\">        -6.8</td></tr>\n",
       "<tr><td style=\"text-align: right;\">   108</td><td>Seoul     </td><td>2021-01-01 8:00</td><td style=\"text-align: right;\">        -9.3</td><td style=\"text-align: right;\">     nan</td><td style=\"text-align: right;\">      1.6</td><td style=\"text-align: right;\">       50</td><td style=\"text-align: right;\">     72</td><td style=\"text-align: right;\">   1015.8</td><td style=\"text-align: right;\">   1027.1</td><td style=\"text-align: right;\">       0</td><td style=\"text-align: right;\">           0</td><td style=\"text-align: right;\">       nan</td><td style=\"text-align: right;\">           nan</td><td style=\"text-align: right;\">        1</td><td>Sc         </td><td style=\"text-align: right;\">        -7.3</td></tr>\n",
       "</tbody>\n",
       "</table><pre style='font-size: smaller; margin-bottom: 1em;'>[10 rows x 17 columns]</pre>"
      ],
      "text/plain": [
       "  spot  spotName    date               Ta(筌욏뇭)    Rn(mm)    Ws(m/s)    Wd(16D)    Hm(%)    Pa(hPa)    Ps(hPa)    Ss(hr)    Gsr(MJ/m2)    Snow(cm)    DpthFhsc(cm)    Tca(10)  CloudForm      Ts(筌욏뇭)\n",
       "------  ----------  ---------------  ------------  --------  ---------  ---------  -------  ---------  ---------  --------  ------------  ----------  --------------  ---------  -----------  ------------\n",
       "   nan  spotName    date                    nan         nan      nan          nan      nan      nan        nan         nan           nan         nan             nan        nan  CloudForm           nan\n",
       "   108  Seoul       2021-01-01 0:00          -8.3       nan        1.8        250       66     1016.4     1027.7       nan           nan         nan             nan          0                       -6.8\n",
       "   108  Seoul       2021-01-01 1:00          -8.7       nan        2.4        270       68     1016.4     1027.7       nan           nan         nan             nan          0                       -6.9\n",
       "   108  Seoul       2021-01-01 2:00          -9.1       nan        1.6        270       69     1016.2     1027.5       nan           nan         nan             nan          0                       -7.1\n",
       "   108  Seoul       2021-01-01 3:00          -9.3       nan        1.1        250       70     1016.8     1028.1       nan           nan         nan             nan          0                       -7.3\n",
       "   108  Seoul       2021-01-01 4:00          -9.3       nan        0.3          0       71     1016.2     1027.5       nan           nan         nan             nan          0                       -7.5\n",
       "   108  Seoul       2021-01-01 5:00          -9.7       nan        1.9         20       72     1015.6     1026.9       nan           nan         nan             nan          0                       -7.6\n",
       "   108  Seoul       2021-01-01 6:00          -9.7       nan        2           50       75     1015.4     1026.7       nan           nan         nan             nan          7  Sc                   -7.4\n",
       "   108  Seoul       2021-01-01 7:00          -9.3       nan        1.6         50       71     1015.6     1026.9       nan           nan         nan             nan          6  Sc                   -6.8\n",
       "   108  Seoul       2021-01-01 8:00          -9.3       nan        1.6         50       72     1015.8     1027.1         0             0         nan             nan          1  Sc                   -7.3\n",
       "[10 rows x 17 columns]\n"
      ]
     },
     "execution_count": 29,
     "metadata": {},
     "output_type": "execute_result"
    }
   ],
   "source": [
    "df.head()"
   ]
  },
  {
   "cell_type": "code",
   "execution_count": null,
   "metadata": {},
   "outputs": [],
   "source": []
  },
  {
   "cell_type": "code",
   "execution_count": 31,
   "metadata": {},
   "outputs": [
    {
     "ename": "H2OValueError",
     "evalue": "Only 'int' or 'string' are allowed for asfactor(), got Rn(mm):real ",
     "output_type": "error",
     "traceback": [
      "\u001b[1;31m---------------------------------------------------------------------------\u001b[0m",
      "\u001b[1;31mH2OValueError\u001b[0m                             Traceback (most recent call last)",
      "Cell \u001b[1;32mIn [31], line 1\u001b[0m\n\u001b[1;32m----> 1\u001b[0m df[\u001b[39m\"\u001b[39m\u001b[39mRn(mm)\u001b[39m\u001b[39m\"\u001b[39m] \u001b[39m=\u001b[39m df[\u001b[39m'\u001b[39;49m\u001b[39mRn(mm)\u001b[39;49m\u001b[39m'\u001b[39;49m]\u001b[39m.\u001b[39;49masfactor()\n\u001b[0;32m      2\u001b[0m \u001b[39mprint\u001b[39m(df[\u001b[39m'\u001b[39m\u001b[39mRn(mm)\u001b[39m\u001b[39m'\u001b[39m]\u001b[39m.\u001b[39mlevels())\n",
      "File \u001b[1;32mc:\\Users\\mujin\\anaconda3\\envs\\H2O\\lib\\site-packages\\h2o\\frame.py:3275\u001b[0m, in \u001b[0;36mH2OFrame.asfactor\u001b[1;34m(self)\u001b[0m\n\u001b[0;32m   3273\u001b[0m     t \u001b[39m=\u001b[39m \u001b[39mself\u001b[39m\u001b[39m.\u001b[39mtypes[colname]\n\u001b[0;32m   3274\u001b[0m     \u001b[39mif\u001b[39;00m t \u001b[39mnot\u001b[39;00m \u001b[39min\u001b[39;00m {\u001b[39m\"\u001b[39m\u001b[39mbool\u001b[39m\u001b[39m\"\u001b[39m, \u001b[39m\"\u001b[39m\u001b[39mint\u001b[39m\u001b[39m\"\u001b[39m, \u001b[39m\"\u001b[39m\u001b[39mstring\u001b[39m\u001b[39m\"\u001b[39m, \u001b[39m\"\u001b[39m\u001b[39menum\u001b[39m\u001b[39m\"\u001b[39m}:\n\u001b[1;32m-> 3275\u001b[0m         \u001b[39mraise\u001b[39;00m H2OValueError(\u001b[39m\"\u001b[39m\u001b[39mOnly \u001b[39m\u001b[39m'\u001b[39m\u001b[39mint\u001b[39m\u001b[39m'\u001b[39m\u001b[39m or \u001b[39m\u001b[39m'\u001b[39m\u001b[39mstring\u001b[39m\u001b[39m'\u001b[39m\u001b[39m are allowed for \u001b[39m\u001b[39m\"\u001b[39m\n\u001b[0;32m   3276\u001b[0m                             \u001b[39m\"\u001b[39m\u001b[39masfactor(), got \u001b[39m\u001b[39m%s\u001b[39;00m\u001b[39m:\u001b[39m\u001b[39m%s\u001b[39;00m\u001b[39m \u001b[39m\u001b[39m\"\u001b[39m \u001b[39m%\u001b[39m (colname, t))\n\u001b[0;32m   3277\u001b[0m fr \u001b[39m=\u001b[39m H2OFrame\u001b[39m.\u001b[39m_expr(expr\u001b[39m=\u001b[39mExprNode(\u001b[39m\"\u001b[39m\u001b[39mas.factor\u001b[39m\u001b[39m\"\u001b[39m, \u001b[39mself\u001b[39m), cache\u001b[39m=\u001b[39m\u001b[39mself\u001b[39m\u001b[39m.\u001b[39m_ex\u001b[39m.\u001b[39m_cache)\n\u001b[0;32m   3278\u001b[0m \u001b[39mif\u001b[39;00m fr\u001b[39m.\u001b[39m_ex\u001b[39m.\u001b[39m_cache\u001b[39m.\u001b[39mtypes_valid():\n",
      "\u001b[1;31mH2OValueError\u001b[0m: Only 'int' or 'string' are allowed for asfactor(), got Rn(mm):real "
     ]
    }
   ],
   "source": [
    "df[\"Rn(mm)\"] = df['Rn(mm)'].asfactor()\n",
    "print(df['Rn(mm)'].levels())"
   ]
  },
  {
   "cell_type": "code",
   "execution_count": 16,
   "metadata": {},
   "outputs": [
    {
     "data": {
      "text/html": [
       "<div>\n",
       "<style scoped>\n",
       "    .dataframe tbody tr th:only-of-type {\n",
       "        vertical-align: middle;\n",
       "    }\n",
       "\n",
       "    .dataframe tbody tr th {\n",
       "        vertical-align: top;\n",
       "    }\n",
       "\n",
       "    .dataframe thead th {\n",
       "        text-align: right;\n",
       "    }\n",
       "</style>\n",
       "<table border=\"1\" class=\"dataframe\">\n",
       "  <thead>\n",
       "    <tr style=\"text-align: right;\">\n",
       "      <th></th>\n",
       "      <th>spot</th>\n",
       "      <th>Ta(°C)</th>\n",
       "      <th>Rn(mm)</th>\n",
       "      <th>Ws(m/s)</th>\n",
       "      <th>Wd(16D)</th>\n",
       "      <th>Hm(%)</th>\n",
       "      <th>Pa(hPa)</th>\n",
       "      <th>Ps(hPa)</th>\n",
       "      <th>Ss(hr)</th>\n",
       "      <th>Gsr(MJ/m2)</th>\n",
       "      <th>Snow(cm)</th>\n",
       "      <th>DpthFhsc(cm)</th>\n",
       "      <th>Tca(10)</th>\n",
       "      <th>Ts(°C)</th>\n",
       "    </tr>\n",
       "  </thead>\n",
       "  <tbody>\n",
       "    <tr>\n",
       "      <th>count</th>\n",
       "      <td>8760.0</td>\n",
       "      <td>8760.000000</td>\n",
       "      <td>949.000000</td>\n",
       "      <td>8758.000000</td>\n",
       "      <td>8758.000000</td>\n",
       "      <td>8760.000000</td>\n",
       "      <td>8760.000000</td>\n",
       "      <td>8760.000000</td>\n",
       "      <td>4791.000000</td>\n",
       "      <td>4791.000000</td>\n",
       "      <td>379.000000</td>\n",
       "      <td>29.000000</td>\n",
       "      <td>8758.000000</td>\n",
       "      <td>8755.000000</td>\n",
       "    </tr>\n",
       "    <tr>\n",
       "      <th>mean</th>\n",
       "      <td>108.0</td>\n",
       "      <td>13.736678</td>\n",
       "      <td>1.250263</td>\n",
       "      <td>2.311270</td>\n",
       "      <td>169.667732</td>\n",
       "      <td>65.589269</td>\n",
       "      <td>1006.047785</td>\n",
       "      <td>1016.281621</td>\n",
       "      <td>0.458380</td>\n",
       "      <td>1.076706</td>\n",
       "      <td>1.397625</td>\n",
       "      <td>0.962069</td>\n",
       "      <td>4.959922</td>\n",
       "      <td>14.731845</td>\n",
       "    </tr>\n",
       "    <tr>\n",
       "      <th>std</th>\n",
       "      <td>0.0</td>\n",
       "      <td>10.896708</td>\n",
       "      <td>3.398801</td>\n",
       "      <td>1.120855</td>\n",
       "      <td>107.546970</td>\n",
       "      <td>18.393227</td>\n",
       "      <td>7.928486</td>\n",
       "      <td>8.312023</td>\n",
       "      <td>0.438788</td>\n",
       "      <td>0.966440</td>\n",
       "      <td>1.357390</td>\n",
       "      <td>1.424132</td>\n",
       "      <td>3.929389</td>\n",
       "      <td>12.043577</td>\n",
       "    </tr>\n",
       "    <tr>\n",
       "      <th>min</th>\n",
       "      <td>108.0</td>\n",
       "      <td>-18.500000</td>\n",
       "      <td>0.000000</td>\n",
       "      <td>0.000000</td>\n",
       "      <td>0.000000</td>\n",
       "      <td>19.000000</td>\n",
       "      <td>986.900000</td>\n",
       "      <td>996.500000</td>\n",
       "      <td>0.000000</td>\n",
       "      <td>0.000000</td>\n",
       "      <td>0.000000</td>\n",
       "      <td>0.000000</td>\n",
       "      <td>0.000000</td>\n",
       "      <td>-12.700000</td>\n",
       "    </tr>\n",
       "    <tr>\n",
       "      <th>25%</th>\n",
       "      <td>108.0</td>\n",
       "      <td>6.000000</td>\n",
       "      <td>0.000000</td>\n",
       "      <td>1.500000</td>\n",
       "      <td>50.000000</td>\n",
       "      <td>51.000000</td>\n",
       "      <td>999.800000</td>\n",
       "      <td>1009.700000</td>\n",
       "      <td>0.000000</td>\n",
       "      <td>0.230000</td>\n",
       "      <td>0.400000</td>\n",
       "      <td>0.000000</td>\n",
       "      <td>0.000000</td>\n",
       "      <td>4.300000</td>\n",
       "    </tr>\n",
       "    <tr>\n",
       "      <th>50%</th>\n",
       "      <td>108.0</td>\n",
       "      <td>14.600000</td>\n",
       "      <td>0.100000</td>\n",
       "      <td>2.200000</td>\n",
       "      <td>200.000000</td>\n",
       "      <td>66.000000</td>\n",
       "      <td>1006.300000</td>\n",
       "      <td>1016.400000</td>\n",
       "      <td>0.400000</td>\n",
       "      <td>0.790000</td>\n",
       "      <td>0.900000</td>\n",
       "      <td>0.200000</td>\n",
       "      <td>6.000000</td>\n",
       "      <td>15.400000</td>\n",
       "    </tr>\n",
       "    <tr>\n",
       "      <th>75%</th>\n",
       "      <td>108.0</td>\n",
       "      <td>22.600000</td>\n",
       "      <td>1.100000</td>\n",
       "      <td>2.900000</td>\n",
       "      <td>270.000000</td>\n",
       "      <td>80.000000</td>\n",
       "      <td>1012.000000</td>\n",
       "      <td>1022.500000</td>\n",
       "      <td>1.000000</td>\n",
       "      <td>1.800000</td>\n",
       "      <td>1.850000</td>\n",
       "      <td>0.900000</td>\n",
       "      <td>9.000000</td>\n",
       "      <td>23.600000</td>\n",
       "    </tr>\n",
       "    <tr>\n",
       "      <th>max</th>\n",
       "      <td>108.0</td>\n",
       "      <td>36.300000</td>\n",
       "      <td>64.700000</td>\n",
       "      <td>8.300000</td>\n",
       "      <td>360.000000</td>\n",
       "      <td>100.000000</td>\n",
       "      <td>1025.800000</td>\n",
       "      <td>1037.400000</td>\n",
       "      <td>1.000000</td>\n",
       "      <td>3.740000</td>\n",
       "      <td>5.100000</td>\n",
       "      <td>4.400000</td>\n",
       "      <td>10.000000</td>\n",
       "      <td>56.800000</td>\n",
       "    </tr>\n",
       "  </tbody>\n",
       "</table>\n",
       "</div>"
      ],
      "text/plain": [
       "         spot       Ta(°C)      Rn(mm)      Ws(m/s)      Wd(16D)        Hm(%)  \\\n",
       "count  8760.0  8760.000000  949.000000  8758.000000  8758.000000  8760.000000   \n",
       "mean    108.0    13.736678    1.250263     2.311270   169.667732    65.589269   \n",
       "std       0.0    10.896708    3.398801     1.120855   107.546970    18.393227   \n",
       "min     108.0   -18.500000    0.000000     0.000000     0.000000    19.000000   \n",
       "25%     108.0     6.000000    0.000000     1.500000    50.000000    51.000000   \n",
       "50%     108.0    14.600000    0.100000     2.200000   200.000000    66.000000   \n",
       "75%     108.0    22.600000    1.100000     2.900000   270.000000    80.000000   \n",
       "max     108.0    36.300000   64.700000     8.300000   360.000000   100.000000   \n",
       "\n",
       "           Pa(hPa)      Ps(hPa)       Ss(hr)   Gsr(MJ/m2)    Snow(cm)  \\\n",
       "count  8760.000000  8760.000000  4791.000000  4791.000000  379.000000   \n",
       "mean   1006.047785  1016.281621     0.458380     1.076706    1.397625   \n",
       "std       7.928486     8.312023     0.438788     0.966440    1.357390   \n",
       "min     986.900000   996.500000     0.000000     0.000000    0.000000   \n",
       "25%     999.800000  1009.700000     0.000000     0.230000    0.400000   \n",
       "50%    1006.300000  1016.400000     0.400000     0.790000    0.900000   \n",
       "75%    1012.000000  1022.500000     1.000000     1.800000    1.850000   \n",
       "max    1025.800000  1037.400000     1.000000     3.740000    5.100000   \n",
       "\n",
       "       DpthFhsc(cm)      Tca(10)       Ts(°C)  \n",
       "count     29.000000  8758.000000  8755.000000  \n",
       "mean       0.962069     4.959922    14.731845  \n",
       "std        1.424132     3.929389    12.043577  \n",
       "min        0.000000     0.000000   -12.700000  \n",
       "25%        0.000000     0.000000     4.300000  \n",
       "50%        0.200000     6.000000    15.400000  \n",
       "75%        0.900000     9.000000    23.600000  \n",
       "max        4.400000    10.000000    56.800000  "
      ]
     },
     "execution_count": 16,
     "metadata": {},
     "output_type": "execute_result"
    }
   ],
   "source": [
    "df.describe()"
   ]
  },
  {
   "cell_type": "code",
   "execution_count": 26,
   "metadata": {},
   "outputs": [
    {
     "name": "stdout",
     "output_type": "stream",
     "text": [
      "<class 'pandas.core.frame.DataFrame'>\n"
     ]
    }
   ],
   "source": [
    "feature = df.drop('Rn(mm)', axis=1)\n",
    "feature.describe()\n",
    "print(type(feature))"
   ]
  },
  {
   "cell_type": "code",
   "execution_count": 27,
   "metadata": {},
   "outputs": [
    {
     "name": "stdout",
     "output_type": "stream",
     "text": [
      "<class 'pandas.core.series.Series'>\n"
     ]
    }
   ],
   "source": [
    "label = df['Rn(mm)']\n",
    "label.describe()\n",
    "print(type(label))"
   ]
  },
  {
   "cell_type": "code",
   "execution_count": 24,
   "metadata": {},
   "outputs": [
    {
     "ename": "TypeError",
     "evalue": "unhashable type: 'list'",
     "output_type": "error",
     "traceback": [
      "\u001b[1;31m---------------------------------------------------------------------------\u001b[0m",
      "\u001b[1;31mTypeError\u001b[0m                                 Traceback (most recent call last)",
      "File \u001b[1;32mc:\\Users\\mujin\\anaconda3\\envs\\H2O\\lib\\site-packages\\IPython\\core\\formatters.py:706\u001b[0m, in \u001b[0;36mPlainTextFormatter.__call__\u001b[1;34m(self, obj)\u001b[0m\n\u001b[0;32m    699\u001b[0m stream \u001b[39m=\u001b[39m StringIO()\n\u001b[0;32m    700\u001b[0m printer \u001b[39m=\u001b[39m pretty\u001b[39m.\u001b[39mRepresentationPrinter(stream, \u001b[39mself\u001b[39m\u001b[39m.\u001b[39mverbose,\n\u001b[0;32m    701\u001b[0m     \u001b[39mself\u001b[39m\u001b[39m.\u001b[39mmax_width, \u001b[39mself\u001b[39m\u001b[39m.\u001b[39mnewline,\n\u001b[0;32m    702\u001b[0m     max_seq_length\u001b[39m=\u001b[39m\u001b[39mself\u001b[39m\u001b[39m.\u001b[39mmax_seq_length,\n\u001b[0;32m    703\u001b[0m     singleton_pprinters\u001b[39m=\u001b[39m\u001b[39mself\u001b[39m\u001b[39m.\u001b[39msingleton_printers,\n\u001b[0;32m    704\u001b[0m     type_pprinters\u001b[39m=\u001b[39m\u001b[39mself\u001b[39m\u001b[39m.\u001b[39mtype_printers,\n\u001b[0;32m    705\u001b[0m     deferred_pprinters\u001b[39m=\u001b[39m\u001b[39mself\u001b[39m\u001b[39m.\u001b[39mdeferred_printers)\n\u001b[1;32m--> 706\u001b[0m printer\u001b[39m.\u001b[39;49mpretty(obj)\n\u001b[0;32m    707\u001b[0m printer\u001b[39m.\u001b[39mflush()\n\u001b[0;32m    708\u001b[0m \u001b[39mreturn\u001b[39;00m stream\u001b[39m.\u001b[39mgetvalue()\n",
      "File \u001b[1;32mc:\\Users\\mujin\\anaconda3\\envs\\H2O\\lib\\site-packages\\IPython\\lib\\pretty.py:410\u001b[0m, in \u001b[0;36mRepresentationPrinter.pretty\u001b[1;34m(self, obj)\u001b[0m\n\u001b[0;32m    407\u001b[0m                         \u001b[39mreturn\u001b[39;00m meth(obj, \u001b[39mself\u001b[39m, cycle)\n\u001b[0;32m    408\u001b[0m                 \u001b[39mif\u001b[39;00m \u001b[39mcls\u001b[39m \u001b[39mis\u001b[39;00m \u001b[39mnot\u001b[39;00m \u001b[39mobject\u001b[39m \\\n\u001b[0;32m    409\u001b[0m                         \u001b[39mand\u001b[39;00m callable(\u001b[39mcls\u001b[39m\u001b[39m.\u001b[39m\u001b[39m__dict__\u001b[39m\u001b[39m.\u001b[39mget(\u001b[39m'\u001b[39m\u001b[39m__repr__\u001b[39m\u001b[39m'\u001b[39m)):\n\u001b[1;32m--> 410\u001b[0m                     \u001b[39mreturn\u001b[39;00m _repr_pprint(obj, \u001b[39mself\u001b[39;49m, cycle)\n\u001b[0;32m    412\u001b[0m     \u001b[39mreturn\u001b[39;00m _default_pprint(obj, \u001b[39mself\u001b[39m, cycle)\n\u001b[0;32m    413\u001b[0m \u001b[39mfinally\u001b[39;00m:\n",
      "File \u001b[1;32mc:\\Users\\mujin\\anaconda3\\envs\\H2O\\lib\\site-packages\\IPython\\lib\\pretty.py:778\u001b[0m, in \u001b[0;36m_repr_pprint\u001b[1;34m(obj, p, cycle)\u001b[0m\n\u001b[0;32m    776\u001b[0m \u001b[39m\"\"\"A pprint that just redirects to the normal repr function.\"\"\"\u001b[39;00m\n\u001b[0;32m    777\u001b[0m \u001b[39m# Find newlines and replace them with p.break_()\u001b[39;00m\n\u001b[1;32m--> 778\u001b[0m output \u001b[39m=\u001b[39m \u001b[39mrepr\u001b[39;49m(obj)\n\u001b[0;32m    779\u001b[0m lines \u001b[39m=\u001b[39m output\u001b[39m.\u001b[39msplitlines()\n\u001b[0;32m    780\u001b[0m \u001b[39mwith\u001b[39;00m p\u001b[39m.\u001b[39mgroup():\n",
      "File \u001b[1;32m~\\AppData\\Roaming\\Python\\Python39\\site-packages\\pandas\\core\\frame.py:1011\u001b[0m, in \u001b[0;36mDataFrame.__repr__\u001b[1;34m(self)\u001b[0m\n\u001b[0;32m   1008\u001b[0m     \u001b[39mreturn\u001b[39;00m buf\u001b[39m.\u001b[39mgetvalue()\n\u001b[0;32m   1010\u001b[0m repr_params \u001b[39m=\u001b[39m fmt\u001b[39m.\u001b[39mget_dataframe_repr_params()\n\u001b[1;32m-> 1011\u001b[0m \u001b[39mreturn\u001b[39;00m \u001b[39mself\u001b[39m\u001b[39m.\u001b[39mto_string(\u001b[39m*\u001b[39m\u001b[39m*\u001b[39mrepr_params)\n",
      "File \u001b[1;32m~\\AppData\\Roaming\\Python\\Python39\\site-packages\\pandas\\core\\frame.py:1192\u001b[0m, in \u001b[0;36mDataFrame.to_string\u001b[1;34m(self, buf, columns, col_space, header, index, na_rep, formatters, float_format, sparsify, index_names, justify, max_rows, max_cols, show_dimensions, decimal, line_width, min_rows, max_colwidth, encoding)\u001b[0m\n\u001b[0;32m   1173\u001b[0m \u001b[39mwith\u001b[39;00m option_context(\u001b[39m\"\u001b[39m\u001b[39mdisplay.max_colwidth\u001b[39m\u001b[39m\"\u001b[39m, max_colwidth):\n\u001b[0;32m   1174\u001b[0m     formatter \u001b[39m=\u001b[39m fmt\u001b[39m.\u001b[39mDataFrameFormatter(\n\u001b[0;32m   1175\u001b[0m         \u001b[39mself\u001b[39m,\n\u001b[0;32m   1176\u001b[0m         columns\u001b[39m=\u001b[39mcolumns,\n\u001b[1;32m   (...)\u001b[0m\n\u001b[0;32m   1190\u001b[0m         decimal\u001b[39m=\u001b[39mdecimal,\n\u001b[0;32m   1191\u001b[0m     )\n\u001b[1;32m-> 1192\u001b[0m     \u001b[39mreturn\u001b[39;00m fmt\u001b[39m.\u001b[39;49mDataFrameRenderer(formatter)\u001b[39m.\u001b[39;49mto_string(\n\u001b[0;32m   1193\u001b[0m         buf\u001b[39m=\u001b[39;49mbuf,\n\u001b[0;32m   1194\u001b[0m         encoding\u001b[39m=\u001b[39;49mencoding,\n\u001b[0;32m   1195\u001b[0m         line_width\u001b[39m=\u001b[39;49mline_width,\n\u001b[0;32m   1196\u001b[0m     )\n",
      "File \u001b[1;32m~\\AppData\\Roaming\\Python\\Python39\\site-packages\\pandas\\io\\formats\\format.py:1128\u001b[0m, in \u001b[0;36mDataFrameRenderer.to_string\u001b[1;34m(self, buf, encoding, line_width)\u001b[0m\n\u001b[0;32m   1125\u001b[0m \u001b[39mfrom\u001b[39;00m \u001b[39mpandas\u001b[39;00m\u001b[39m.\u001b[39;00m\u001b[39mio\u001b[39;00m\u001b[39m.\u001b[39;00m\u001b[39mformats\u001b[39;00m\u001b[39m.\u001b[39;00m\u001b[39mstring\u001b[39;00m \u001b[39mimport\u001b[39;00m StringFormatter\n\u001b[0;32m   1127\u001b[0m string_formatter \u001b[39m=\u001b[39m StringFormatter(\u001b[39mself\u001b[39m\u001b[39m.\u001b[39mfmt, line_width\u001b[39m=\u001b[39mline_width)\n\u001b[1;32m-> 1128\u001b[0m string \u001b[39m=\u001b[39m string_formatter\u001b[39m.\u001b[39;49mto_string()\n\u001b[0;32m   1129\u001b[0m \u001b[39mreturn\u001b[39;00m save_to_buffer(string, buf\u001b[39m=\u001b[39mbuf, encoding\u001b[39m=\u001b[39mencoding)\n",
      "File \u001b[1;32m~\\AppData\\Roaming\\Python\\Python39\\site-packages\\pandas\\io\\formats\\string.py:25\u001b[0m, in \u001b[0;36mStringFormatter.to_string\u001b[1;34m(self)\u001b[0m\n\u001b[0;32m     24\u001b[0m \u001b[39mdef\u001b[39;00m \u001b[39mto_string\u001b[39m(\u001b[39mself\u001b[39m) \u001b[39m-\u001b[39m\u001b[39m>\u001b[39m \u001b[39mstr\u001b[39m:\n\u001b[1;32m---> 25\u001b[0m     text \u001b[39m=\u001b[39m \u001b[39mself\u001b[39;49m\u001b[39m.\u001b[39;49m_get_string_representation()\n\u001b[0;32m     26\u001b[0m     \u001b[39mif\u001b[39;00m \u001b[39mself\u001b[39m\u001b[39m.\u001b[39mfmt\u001b[39m.\u001b[39mshould_show_dimensions:\n\u001b[0;32m     27\u001b[0m         text \u001b[39m=\u001b[39m \u001b[39m\"\u001b[39m\u001b[39m\"\u001b[39m\u001b[39m.\u001b[39mjoin([text, \u001b[39mself\u001b[39m\u001b[39m.\u001b[39mfmt\u001b[39m.\u001b[39mdimensions_info])\n",
      "File \u001b[1;32m~\\AppData\\Roaming\\Python\\Python39\\site-packages\\pandas\\io\\formats\\string.py:40\u001b[0m, in \u001b[0;36mStringFormatter._get_string_representation\u001b[1;34m(self)\u001b[0m\n\u001b[0;32m     37\u001b[0m \u001b[39mif\u001b[39;00m \u001b[39mself\u001b[39m\u001b[39m.\u001b[39mfmt\u001b[39m.\u001b[39mframe\u001b[39m.\u001b[39mempty:\n\u001b[0;32m     38\u001b[0m     \u001b[39mreturn\u001b[39;00m \u001b[39mself\u001b[39m\u001b[39m.\u001b[39m_empty_info_line\n\u001b[1;32m---> 40\u001b[0m strcols \u001b[39m=\u001b[39m \u001b[39mself\u001b[39;49m\u001b[39m.\u001b[39;49m_get_strcols()\n\u001b[0;32m     42\u001b[0m \u001b[39mif\u001b[39;00m \u001b[39mself\u001b[39m\u001b[39m.\u001b[39mline_width \u001b[39mis\u001b[39;00m \u001b[39mNone\u001b[39;00m:\n\u001b[0;32m     43\u001b[0m     \u001b[39m# no need to wrap around just print the whole frame\u001b[39;00m\n\u001b[0;32m     44\u001b[0m     \u001b[39mreturn\u001b[39;00m \u001b[39mself\u001b[39m\u001b[39m.\u001b[39madj\u001b[39m.\u001b[39madjoin(\u001b[39m1\u001b[39m, \u001b[39m*\u001b[39mstrcols)\n",
      "File \u001b[1;32m~\\AppData\\Roaming\\Python\\Python39\\site-packages\\pandas\\io\\formats\\string.py:31\u001b[0m, in \u001b[0;36mStringFormatter._get_strcols\u001b[1;34m(self)\u001b[0m\n\u001b[0;32m     30\u001b[0m \u001b[39mdef\u001b[39;00m \u001b[39m_get_strcols\u001b[39m(\u001b[39mself\u001b[39m) \u001b[39m-\u001b[39m\u001b[39m>\u001b[39m \u001b[39mlist\u001b[39m[\u001b[39mlist\u001b[39m[\u001b[39mstr\u001b[39m]]:\n\u001b[1;32m---> 31\u001b[0m     strcols \u001b[39m=\u001b[39m \u001b[39mself\u001b[39;49m\u001b[39m.\u001b[39;49mfmt\u001b[39m.\u001b[39;49mget_strcols()\n\u001b[0;32m     32\u001b[0m     \u001b[39mif\u001b[39;00m \u001b[39mself\u001b[39m\u001b[39m.\u001b[39mfmt\u001b[39m.\u001b[39mis_truncated:\n\u001b[0;32m     33\u001b[0m         strcols \u001b[39m=\u001b[39m \u001b[39mself\u001b[39m\u001b[39m.\u001b[39m_insert_dot_separators(strcols)\n",
      "File \u001b[1;32m~\\AppData\\Roaming\\Python\\Python39\\site-packages\\pandas\\io\\formats\\format.py:611\u001b[0m, in \u001b[0;36mDataFrameFormatter.get_strcols\u001b[1;34m(self)\u001b[0m\n\u001b[0;32m    607\u001b[0m \u001b[39mdef\u001b[39;00m \u001b[39mget_strcols\u001b[39m(\u001b[39mself\u001b[39m) \u001b[39m-\u001b[39m\u001b[39m>\u001b[39m \u001b[39mlist\u001b[39m[\u001b[39mlist\u001b[39m[\u001b[39mstr\u001b[39m]]:\n\u001b[0;32m    608\u001b[0m     \u001b[39m\"\"\"\u001b[39;00m\n\u001b[0;32m    609\u001b[0m \u001b[39m    Render a DataFrame to a list of columns (as lists of strings).\u001b[39;00m\n\u001b[0;32m    610\u001b[0m \u001b[39m    \"\"\"\u001b[39;00m\n\u001b[1;32m--> 611\u001b[0m     strcols \u001b[39m=\u001b[39m \u001b[39mself\u001b[39;49m\u001b[39m.\u001b[39;49m_get_strcols_without_index()\n\u001b[0;32m    613\u001b[0m     \u001b[39mif\u001b[39;00m \u001b[39mself\u001b[39m\u001b[39m.\u001b[39mindex:\n\u001b[0;32m    614\u001b[0m         str_index \u001b[39m=\u001b[39m \u001b[39mself\u001b[39m\u001b[39m.\u001b[39m_get_formatted_index(\u001b[39mself\u001b[39m\u001b[39m.\u001b[39mtr_frame)\n",
      "File \u001b[1;32m~\\AppData\\Roaming\\Python\\Python39\\site-packages\\pandas\\io\\formats\\format.py:864\u001b[0m, in \u001b[0;36mDataFrameFormatter._get_strcols_without_index\u001b[1;34m(self)\u001b[0m\n\u001b[0;32m    862\u001b[0m     str_columns \u001b[39m=\u001b[39m [[label] \u001b[39mfor\u001b[39;00m label \u001b[39min\u001b[39;00m \u001b[39mself\u001b[39m\u001b[39m.\u001b[39mheader]\n\u001b[0;32m    863\u001b[0m \u001b[39melse\u001b[39;00m:\n\u001b[1;32m--> 864\u001b[0m     str_columns \u001b[39m=\u001b[39m \u001b[39mself\u001b[39;49m\u001b[39m.\u001b[39;49m_get_formatted_column_labels(\u001b[39mself\u001b[39;49m\u001b[39m.\u001b[39;49mtr_frame)\n\u001b[0;32m    866\u001b[0m \u001b[39mif\u001b[39;00m \u001b[39mself\u001b[39m\u001b[39m.\u001b[39mshow_row_idx_names:\n\u001b[0;32m    867\u001b[0m     \u001b[39mfor\u001b[39;00m x \u001b[39min\u001b[39;00m str_columns:\n",
      "File \u001b[1;32m~\\AppData\\Roaming\\Python\\Python39\\site-packages\\pandas\\io\\formats\\format.py:945\u001b[0m, in \u001b[0;36mDataFrameFormatter._get_formatted_column_labels\u001b[1;34m(self, frame)\u001b[0m\n\u001b[0;32m    943\u001b[0m     dtypes \u001b[39m=\u001b[39m \u001b[39mself\u001b[39m\u001b[39m.\u001b[39mframe\u001b[39m.\u001b[39mdtypes\n\u001b[0;32m    944\u001b[0m     need_leadsp \u001b[39m=\u001b[39m \u001b[39mdict\u001b[39m(\u001b[39mzip\u001b[39m(fmt_columns, \u001b[39mmap\u001b[39m(is_numeric_dtype, dtypes)))\n\u001b[1;32m--> 945\u001b[0m     str_columns \u001b[39m=\u001b[39m [\n\u001b[0;32m    946\u001b[0m         [\u001b[39m\"\u001b[39m\u001b[39m \u001b[39m\u001b[39m\"\u001b[39m \u001b[39m+\u001b[39m x \u001b[39mif\u001b[39;00m \u001b[39mnot\u001b[39;00m \u001b[39mself\u001b[39m\u001b[39m.\u001b[39m_get_formatter(i) \u001b[39mand\u001b[39;00m need_leadsp[x] \u001b[39melse\u001b[39;00m x]\n\u001b[0;32m    947\u001b[0m         \u001b[39mfor\u001b[39;00m i, x \u001b[39min\u001b[39;00m \u001b[39menumerate\u001b[39m(fmt_columns)\n\u001b[0;32m    948\u001b[0m     ]\n\u001b[0;32m    949\u001b[0m \u001b[39m# self.str_columns = str_columns\u001b[39;00m\n\u001b[0;32m    950\u001b[0m \u001b[39mreturn\u001b[39;00m str_columns\n",
      "File \u001b[1;32m~\\AppData\\Roaming\\Python\\Python39\\site-packages\\pandas\\io\\formats\\format.py:946\u001b[0m, in \u001b[0;36m<listcomp>\u001b[1;34m(.0)\u001b[0m\n\u001b[0;32m    943\u001b[0m     dtypes \u001b[39m=\u001b[39m \u001b[39mself\u001b[39m\u001b[39m.\u001b[39mframe\u001b[39m.\u001b[39mdtypes\n\u001b[0;32m    944\u001b[0m     need_leadsp \u001b[39m=\u001b[39m \u001b[39mdict\u001b[39m(\u001b[39mzip\u001b[39m(fmt_columns, \u001b[39mmap\u001b[39m(is_numeric_dtype, dtypes)))\n\u001b[0;32m    945\u001b[0m     str_columns \u001b[39m=\u001b[39m [\n\u001b[1;32m--> 946\u001b[0m         [\u001b[39m\"\u001b[39m\u001b[39m \u001b[39m\u001b[39m\"\u001b[39m \u001b[39m+\u001b[39m x \u001b[39mif\u001b[39;00m \u001b[39mnot\u001b[39;00m \u001b[39mself\u001b[39;49m\u001b[39m.\u001b[39;49m_get_formatter(i) \u001b[39mand\u001b[39;00m need_leadsp[x] \u001b[39melse\u001b[39;00m x]\n\u001b[0;32m    947\u001b[0m         \u001b[39mfor\u001b[39;00m i, x \u001b[39min\u001b[39;00m \u001b[39menumerate\u001b[39m(fmt_columns)\n\u001b[0;32m    948\u001b[0m     ]\n\u001b[0;32m    949\u001b[0m \u001b[39m# self.str_columns = str_columns\u001b[39;00m\n\u001b[0;32m    950\u001b[0m \u001b[39mreturn\u001b[39;00m str_columns\n",
      "File \u001b[1;32m~\\AppData\\Roaming\\Python\\Python39\\site-packages\\pandas\\io\\formats\\format.py:909\u001b[0m, in \u001b[0;36mDataFrameFormatter._get_formatter\u001b[1;34m(self, i)\u001b[0m\n\u001b[0;32m    907\u001b[0m \u001b[39mif\u001b[39;00m is_integer(i) \u001b[39mand\u001b[39;00m i \u001b[39mnot\u001b[39;00m \u001b[39min\u001b[39;00m \u001b[39mself\u001b[39m\u001b[39m.\u001b[39mcolumns:\n\u001b[0;32m    908\u001b[0m     i \u001b[39m=\u001b[39m \u001b[39mself\u001b[39m\u001b[39m.\u001b[39mcolumns[i]\n\u001b[1;32m--> 909\u001b[0m \u001b[39mreturn\u001b[39;00m \u001b[39mself\u001b[39;49m\u001b[39m.\u001b[39;49mformatters\u001b[39m.\u001b[39;49mget(i, \u001b[39mNone\u001b[39;49;00m)\n",
      "\u001b[1;31mTypeError\u001b[0m: unhashable type: 'list'"
     ]
    },
    {
     "ename": "TypeError",
     "evalue": "unhashable type: 'list'",
     "output_type": "error",
     "traceback": [
      "\u001b[1;31m---------------------------------------------------------------------------\u001b[0m",
      "\u001b[1;31mTypeError\u001b[0m                                 Traceback (most recent call last)",
      "File \u001b[1;32mc:\\Users\\mujin\\anaconda3\\envs\\H2O\\lib\\site-packages\\IPython\\core\\formatters.py:342\u001b[0m, in \u001b[0;36mBaseFormatter.__call__\u001b[1;34m(self, obj)\u001b[0m\n\u001b[0;32m    340\u001b[0m     method \u001b[39m=\u001b[39m get_real_method(obj, \u001b[39mself\u001b[39m\u001b[39m.\u001b[39mprint_method)\n\u001b[0;32m    341\u001b[0m     \u001b[39mif\u001b[39;00m method \u001b[39mis\u001b[39;00m \u001b[39mnot\u001b[39;00m \u001b[39mNone\u001b[39;00m:\n\u001b[1;32m--> 342\u001b[0m         \u001b[39mreturn\u001b[39;00m method()\n\u001b[0;32m    343\u001b[0m     \u001b[39mreturn\u001b[39;00m \u001b[39mNone\u001b[39;00m\n\u001b[0;32m    344\u001b[0m \u001b[39melse\u001b[39;00m:\n",
      "File \u001b[1;32m~\\AppData\\Roaming\\Python\\Python39\\site-packages\\pandas\\core\\frame.py:1053\u001b[0m, in \u001b[0;36mDataFrame._repr_html_\u001b[1;34m(self)\u001b[0m\n\u001b[0;32m   1031\u001b[0m     show_dimensions \u001b[39m=\u001b[39m get_option(\u001b[39m\"\u001b[39m\u001b[39mdisplay.show_dimensions\u001b[39m\u001b[39m\"\u001b[39m)\n\u001b[0;32m   1033\u001b[0m     formatter \u001b[39m=\u001b[39m fmt\u001b[39m.\u001b[39mDataFrameFormatter(\n\u001b[0;32m   1034\u001b[0m         \u001b[39mself\u001b[39m,\n\u001b[0;32m   1035\u001b[0m         columns\u001b[39m=\u001b[39m\u001b[39mNone\u001b[39;00m,\n\u001b[1;32m   (...)\u001b[0m\n\u001b[0;32m   1051\u001b[0m         decimal\u001b[39m=\u001b[39m\u001b[39m\"\u001b[39m\u001b[39m.\u001b[39m\u001b[39m\"\u001b[39m,\n\u001b[0;32m   1052\u001b[0m     )\n\u001b[1;32m-> 1053\u001b[0m     \u001b[39mreturn\u001b[39;00m fmt\u001b[39m.\u001b[39;49mDataFrameRenderer(formatter)\u001b[39m.\u001b[39;49mto_html(notebook\u001b[39m=\u001b[39;49m\u001b[39mTrue\u001b[39;49;00m)\n\u001b[0;32m   1054\u001b[0m \u001b[39melse\u001b[39;00m:\n\u001b[0;32m   1055\u001b[0m     \u001b[39mreturn\u001b[39;00m \u001b[39mNone\u001b[39;00m\n",
      "File \u001b[1;32m~\\AppData\\Roaming\\Python\\Python39\\site-packages\\pandas\\io\\formats\\format.py:1102\u001b[0m, in \u001b[0;36mDataFrameRenderer.to_html\u001b[1;34m(self, buf, encoding, classes, notebook, border, table_id, render_links)\u001b[0m\n\u001b[0;32m   1093\u001b[0m Klass \u001b[39m=\u001b[39m NotebookFormatter \u001b[39mif\u001b[39;00m notebook \u001b[39melse\u001b[39;00m HTMLFormatter\n\u001b[0;32m   1095\u001b[0m html_formatter \u001b[39m=\u001b[39m Klass(\n\u001b[0;32m   1096\u001b[0m     \u001b[39mself\u001b[39m\u001b[39m.\u001b[39mfmt,\n\u001b[0;32m   1097\u001b[0m     classes\u001b[39m=\u001b[39mclasses,\n\u001b[1;32m   (...)\u001b[0m\n\u001b[0;32m   1100\u001b[0m     render_links\u001b[39m=\u001b[39mrender_links,\n\u001b[0;32m   1101\u001b[0m )\n\u001b[1;32m-> 1102\u001b[0m string \u001b[39m=\u001b[39m html_formatter\u001b[39m.\u001b[39;49mto_string()\n\u001b[0;32m   1103\u001b[0m \u001b[39mreturn\u001b[39;00m save_to_buffer(string, buf\u001b[39m=\u001b[39mbuf, encoding\u001b[39m=\u001b[39mencoding)\n",
      "File \u001b[1;32m~\\AppData\\Roaming\\Python\\Python39\\site-packages\\pandas\\io\\formats\\html.py:72\u001b[0m, in \u001b[0;36mHTMLFormatter.to_string\u001b[1;34m(self)\u001b[0m\n\u001b[0;32m     71\u001b[0m \u001b[39mdef\u001b[39;00m \u001b[39mto_string\u001b[39m(\u001b[39mself\u001b[39m) \u001b[39m-\u001b[39m\u001b[39m>\u001b[39m \u001b[39mstr\u001b[39m:\n\u001b[1;32m---> 72\u001b[0m     lines \u001b[39m=\u001b[39m \u001b[39mself\u001b[39;49m\u001b[39m.\u001b[39;49mrender()\n\u001b[0;32m     73\u001b[0m     \u001b[39mif\u001b[39;00m \u001b[39many\u001b[39m(\u001b[39misinstance\u001b[39m(x, \u001b[39mstr\u001b[39m) \u001b[39mfor\u001b[39;00m x \u001b[39min\u001b[39;00m lines):\n\u001b[0;32m     74\u001b[0m         lines \u001b[39m=\u001b[39m [\u001b[39mstr\u001b[39m(x) \u001b[39mfor\u001b[39;00m x \u001b[39min\u001b[39;00m lines]\n",
      "File \u001b[1;32m~\\AppData\\Roaming\\Python\\Python39\\site-packages\\pandas\\io\\formats\\html.py:621\u001b[0m, in \u001b[0;36mNotebookFormatter.render\u001b[1;34m(self)\u001b[0m\n\u001b[0;32m    619\u001b[0m \u001b[39mself\u001b[39m\u001b[39m.\u001b[39mwrite(\u001b[39m\"\u001b[39m\u001b[39m<div>\u001b[39m\u001b[39m\"\u001b[39m)\n\u001b[0;32m    620\u001b[0m \u001b[39mself\u001b[39m\u001b[39m.\u001b[39mwrite_style()\n\u001b[1;32m--> 621\u001b[0m \u001b[39msuper\u001b[39;49m()\u001b[39m.\u001b[39;49mrender()\n\u001b[0;32m    622\u001b[0m \u001b[39mself\u001b[39m\u001b[39m.\u001b[39mwrite(\u001b[39m\"\u001b[39m\u001b[39m</div>\u001b[39m\u001b[39m\"\u001b[39m)\n\u001b[0;32m    623\u001b[0m \u001b[39mreturn\u001b[39;00m \u001b[39mself\u001b[39m\u001b[39m.\u001b[39melements\n",
      "File \u001b[1;32m~\\AppData\\Roaming\\Python\\Python39\\site-packages\\pandas\\io\\formats\\html.py:78\u001b[0m, in \u001b[0;36mHTMLFormatter.render\u001b[1;34m(self)\u001b[0m\n\u001b[0;32m     77\u001b[0m \u001b[39mdef\u001b[39;00m \u001b[39mrender\u001b[39m(\u001b[39mself\u001b[39m) \u001b[39m-\u001b[39m\u001b[39m>\u001b[39m \u001b[39mlist\u001b[39m[\u001b[39mstr\u001b[39m]:\n\u001b[1;32m---> 78\u001b[0m     \u001b[39mself\u001b[39;49m\u001b[39m.\u001b[39;49m_write_table()\n\u001b[0;32m     80\u001b[0m     \u001b[39mif\u001b[39;00m \u001b[39mself\u001b[39m\u001b[39m.\u001b[39mshould_show_dimensions:\n\u001b[0;32m     81\u001b[0m         by \u001b[39m=\u001b[39m \u001b[39mchr\u001b[39m(\u001b[39m215\u001b[39m)  \u001b[39m# ×\u001b[39;00m\n",
      "File \u001b[1;32m~\\AppData\\Roaming\\Python\\Python39\\site-packages\\pandas\\io\\formats\\html.py:248\u001b[0m, in \u001b[0;36mHTMLFormatter._write_table\u001b[1;34m(self, indent)\u001b[0m\n\u001b[0;32m    245\u001b[0m \u001b[39mif\u001b[39;00m \u001b[39mself\u001b[39m\u001b[39m.\u001b[39mfmt\u001b[39m.\u001b[39mheader \u001b[39mor\u001b[39;00m \u001b[39mself\u001b[39m\u001b[39m.\u001b[39mshow_row_idx_names:\n\u001b[0;32m    246\u001b[0m     \u001b[39mself\u001b[39m\u001b[39m.\u001b[39m_write_header(indent \u001b[39m+\u001b[39m \u001b[39mself\u001b[39m\u001b[39m.\u001b[39mindent_delta)\n\u001b[1;32m--> 248\u001b[0m \u001b[39mself\u001b[39;49m\u001b[39m.\u001b[39;49m_write_body(indent \u001b[39m+\u001b[39;49m \u001b[39mself\u001b[39;49m\u001b[39m.\u001b[39;49mindent_delta)\n\u001b[0;32m    250\u001b[0m \u001b[39mself\u001b[39m\u001b[39m.\u001b[39mwrite(\u001b[39m\"\u001b[39m\u001b[39m</table>\u001b[39m\u001b[39m\"\u001b[39m, indent)\n",
      "File \u001b[1;32m~\\AppData\\Roaming\\Python\\Python39\\site-packages\\pandas\\io\\formats\\html.py:395\u001b[0m, in \u001b[0;36mHTMLFormatter._write_body\u001b[1;34m(self, indent)\u001b[0m\n\u001b[0;32m    393\u001b[0m \u001b[39mdef\u001b[39;00m \u001b[39m_write_body\u001b[39m(\u001b[39mself\u001b[39m, indent: \u001b[39mint\u001b[39m) \u001b[39m-\u001b[39m\u001b[39m>\u001b[39m \u001b[39mNone\u001b[39;00m:\n\u001b[0;32m    394\u001b[0m     \u001b[39mself\u001b[39m\u001b[39m.\u001b[39mwrite(\u001b[39m\"\u001b[39m\u001b[39m<tbody>\u001b[39m\u001b[39m\"\u001b[39m, indent)\n\u001b[1;32m--> 395\u001b[0m     fmt_values \u001b[39m=\u001b[39m \u001b[39mself\u001b[39;49m\u001b[39m.\u001b[39;49m_get_formatted_values()\n\u001b[0;32m    397\u001b[0m     \u001b[39m# write values\u001b[39;00m\n\u001b[0;32m    398\u001b[0m     \u001b[39mif\u001b[39;00m \u001b[39mself\u001b[39m\u001b[39m.\u001b[39mfmt\u001b[39m.\u001b[39mindex \u001b[39mand\u001b[39;00m \u001b[39misinstance\u001b[39m(\u001b[39mself\u001b[39m\u001b[39m.\u001b[39mframe\u001b[39m.\u001b[39mindex, MultiIndex):\n",
      "File \u001b[1;32m~\\AppData\\Roaming\\Python\\Python39\\site-packages\\pandas\\io\\formats\\html.py:585\u001b[0m, in \u001b[0;36mNotebookFormatter._get_formatted_values\u001b[1;34m(self)\u001b[0m\n\u001b[0;32m    584\u001b[0m \u001b[39mdef\u001b[39;00m \u001b[39m_get_formatted_values\u001b[39m(\u001b[39mself\u001b[39m) \u001b[39m-\u001b[39m\u001b[39m>\u001b[39m \u001b[39mdict\u001b[39m[\u001b[39mint\u001b[39m, \u001b[39mlist\u001b[39m[\u001b[39mstr\u001b[39m]]:\n\u001b[1;32m--> 585\u001b[0m     \u001b[39mreturn\u001b[39;00m {i: \u001b[39mself\u001b[39m\u001b[39m.\u001b[39mfmt\u001b[39m.\u001b[39mformat_col(i) \u001b[39mfor\u001b[39;00m i \u001b[39min\u001b[39;00m \u001b[39mrange\u001b[39m(\u001b[39mself\u001b[39m\u001b[39m.\u001b[39mncols)}\n",
      "File \u001b[1;32m~\\AppData\\Roaming\\Python\\Python39\\site-packages\\pandas\\io\\formats\\html.py:585\u001b[0m, in \u001b[0;36m<dictcomp>\u001b[1;34m(.0)\u001b[0m\n\u001b[0;32m    584\u001b[0m \u001b[39mdef\u001b[39;00m \u001b[39m_get_formatted_values\u001b[39m(\u001b[39mself\u001b[39m) \u001b[39m-\u001b[39m\u001b[39m>\u001b[39m \u001b[39mdict\u001b[39m[\u001b[39mint\u001b[39m, \u001b[39mlist\u001b[39m[\u001b[39mstr\u001b[39m]]:\n\u001b[1;32m--> 585\u001b[0m     \u001b[39mreturn\u001b[39;00m {i: \u001b[39mself\u001b[39;49m\u001b[39m.\u001b[39;49mfmt\u001b[39m.\u001b[39;49mformat_col(i) \u001b[39mfor\u001b[39;00m i \u001b[39min\u001b[39;00m \u001b[39mrange\u001b[39m(\u001b[39mself\u001b[39m\u001b[39m.\u001b[39mncols)}\n",
      "File \u001b[1;32m~\\AppData\\Roaming\\Python\\Python39\\site-packages\\pandas\\io\\formats\\format.py:888\u001b[0m, in \u001b[0;36mDataFrameFormatter.format_col\u001b[1;34m(self, i)\u001b[0m\n\u001b[0;32m    886\u001b[0m \u001b[39mdef\u001b[39;00m \u001b[39mformat_col\u001b[39m(\u001b[39mself\u001b[39m, i: \u001b[39mint\u001b[39m) \u001b[39m-\u001b[39m\u001b[39m>\u001b[39m \u001b[39mlist\u001b[39m[\u001b[39mstr\u001b[39m]:\n\u001b[0;32m    887\u001b[0m     frame \u001b[39m=\u001b[39m \u001b[39mself\u001b[39m\u001b[39m.\u001b[39mtr_frame\n\u001b[1;32m--> 888\u001b[0m     formatter \u001b[39m=\u001b[39m \u001b[39mself\u001b[39;49m\u001b[39m.\u001b[39;49m_get_formatter(i)\n\u001b[0;32m    889\u001b[0m     \u001b[39mreturn\u001b[39;00m format_array(\n\u001b[0;32m    890\u001b[0m         frame\u001b[39m.\u001b[39miloc[:, i]\u001b[39m.\u001b[39m_values,\n\u001b[0;32m    891\u001b[0m         formatter,\n\u001b[1;32m   (...)\u001b[0m\n\u001b[0;32m    896\u001b[0m         leading_space\u001b[39m=\u001b[39m\u001b[39mself\u001b[39m\u001b[39m.\u001b[39mindex,\n\u001b[0;32m    897\u001b[0m     )\n",
      "File \u001b[1;32m~\\AppData\\Roaming\\Python\\Python39\\site-packages\\pandas\\io\\formats\\format.py:909\u001b[0m, in \u001b[0;36mDataFrameFormatter._get_formatter\u001b[1;34m(self, i)\u001b[0m\n\u001b[0;32m    907\u001b[0m \u001b[39mif\u001b[39;00m is_integer(i) \u001b[39mand\u001b[39;00m i \u001b[39mnot\u001b[39;00m \u001b[39min\u001b[39;00m \u001b[39mself\u001b[39m\u001b[39m.\u001b[39mcolumns:\n\u001b[0;32m    908\u001b[0m     i \u001b[39m=\u001b[39m \u001b[39mself\u001b[39m\u001b[39m.\u001b[39mcolumns[i]\n\u001b[1;32m--> 909\u001b[0m \u001b[39mreturn\u001b[39;00m \u001b[39mself\u001b[39;49m\u001b[39m.\u001b[39;49mformatters\u001b[39m.\u001b[39;49mget(i, \u001b[39mNone\u001b[39;49;00m)\n",
      "\u001b[1;31mTypeError\u001b[0m: unhashable type: 'list'"
     ]
    }
   ],
   "source": [
    "label.to_frame([\"Rn(mm)\"])\n",
    "#label = label.asfactor()"
   ]
  }
 ],
 "metadata": {
  "kernelspec": {
   "display_name": "AutoML-H2O",
   "language": "python",
   "name": "h2o"
  },
  "language_info": {
   "codemirror_mode": {
    "name": "ipython",
    "version": 3
   },
   "file_extension": ".py",
   "mimetype": "text/x-python",
   "name": "python",
   "nbconvert_exporter": "python",
   "pygments_lexer": "ipython3",
   "version": "3.9.15"
  },
  "orig_nbformat": 4,
  "vscode": {
   "interpreter": {
    "hash": "1700e4de6110bcf4383779f8ddcb22593ea7f851006c54ac8c67b22a1220fbd5"
   }
  }
 },
 "nbformat": 4,
 "nbformat_minor": 2
}
